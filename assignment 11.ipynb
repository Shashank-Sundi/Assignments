{
 "cells": [
  {
   "cell_type": "code",
   "execution_count": null,
   "metadata": {},
   "outputs": [],
   "source": [
    "#Q1\n",
    "\"\"\"In each of the following situations, state whether it is a correctly stated hypothesis\n",
    "testing problem and why?\n",
    "1. 𝐻0: 𝜇 = 25, 𝐻1: 𝜇 ≠ 25\n",
    "2. 𝐻0: 𝜎 > 10, 𝐻1: 𝜎 = 10\n",
    "3. 𝐻0: 𝑥 = 50, 𝐻1: 𝑥 ≠ 50\n",
    "4. 𝐻0: 𝑝 = 0.1, 𝐻1: 𝑝 = 0.5\n",
    "5. 𝐻0: 𝑠 = 30, 𝐻1: 𝑠 > 30 \"\"\"\n"
   ]
  },
  {
   "cell_type": "markdown",
   "metadata": {},
   "source": [
    "1. Yes\n",
    "2. Yes\n",
    "3. No -- Hypothesis is stated in terms of statistical values of the sample and not on data points \n",
    "4. No -- Only the null hypothesis can be an equality claim , whereas here, both H0,H1 are eqaulity claims.\n",
    "5. No -- Hypothesis is stated in terms of statistical values of the sample and not on data points "
   ]
  },
  {
   "cell_type": "code",
   "execution_count": 23,
   "metadata": {},
   "outputs": [
    {
     "name": "stdout",
     "output_type": "stream",
     "text": [
      "The z statistic=1.7777777777777715 > z critical=1.6448536269514722 , hence we reject the null hypothesis .\n",
      "Thus the average cost of the textbooks is indeed greater than Rs. 52 \n"
     ]
    }
   ],
   "source": [
    "#Q2\n",
    "\"\"\"Problem Statement 2:\n",
    "The college bookstore tells prospective students that the average cost of its\n",
    "textbooks is Rs. 52 with a standard deviation of Rs. 4.50. A group of smart statistics\n",
    "students thinks that the average cost is higher. To test the bookstore’s claim against\n",
    "their alternative, the students will select a random sample of size 100. Assume that\n",
    "the mean from their random sample is Rs. 52.80. Perform a hypothesis test at the\n",
    "5% level of significance and state your decision.\"\"\"\n",
    "\n",
    "from scipy.stats import norm\n",
    "mu_claim=52 \n",
    "std_claim=4.50\n",
    "n=100\n",
    "mu_sample=52.8\n",
    "\n",
    "#H0 : mu=52\n",
    "#H1 : mu > 52\n",
    "#right tailed test\n",
    "\n",
    "alpha=0.05\n",
    "z =((mu_sample-mu_claim)*(n**0.5))/std_claim\n",
    "z_critical=norm.ppf(1-0.05)\n",
    "print(f\"The z statistic={z} > z critical={z_critical} , hence we reject the null hypothesis .\")\n",
    "print(f\"Thus the average cost of the textbooks is indeed greater than Rs. 52 \")"
   ]
  },
  {
   "cell_type": "code",
   "execution_count": 31,
   "metadata": {},
   "outputs": [
    {
     "name": "stdout",
     "output_type": "stream",
     "text": [
      "The z statistic=-1.3258252147247767 < z critical=2.3263478740408408 , hence we accept the null hypothesis.\n",
      "Thus,the factory's claim that the the pollutant quantity has been lowered is TRUE\n"
     ]
    }
   ],
   "source": [
    "#Q3\n",
    "\"\"\"Problem Statement 3:\n",
    "A certain chemical pollutant in the Genesee River has been constant for several\n",
    "years with mean μ = 34 ppm (parts per million) and standard deviation σ = 8 ppm. A\n",
    "group of factory representatives whose companies discharge liquids into the river is\n",
    "now claiming that they have lowered the average with improved filtration devices. A\n",
    "group of environmentalists will test to see if this is true at the 1% level of\n",
    "significance. Assume \\ that their sample of size 50 gives a mean of 32.5 ppm.\n",
    "Perform a hypothesis test at the 1% level of significance and state your decision.\"\"\"\n",
    "\n",
    "mu=34\n",
    "std=8\n",
    "alpha=0.01\n",
    "n=50\n",
    "mu_sample=32.5\n",
    "\n",
    "#H0 : mu<34\n",
    "#H1 : mu>=34 \n",
    "# Right tailed test\n",
    "\n",
    "z_critical=norm.ppf(1-0.01)\n",
    "z=(mu_sample-mu)*(50**0.5)/std\n",
    "print(f\"The z statistic={z} < z critical={z_critical} , hence we accept the null hypothesis.\")\n",
    "print(\"Thus,the factory's claim that the the pollutant quantity has been lowered is TRUE\")\n"
   ]
  },
  {
   "cell_type": "code",
   "execution_count": 35,
   "metadata": {},
   "outputs": [],
   "source": [
    "#Q4\n",
    "\"\"\"\n",
    "Problem Statement 4:\n",
    "Based on population figures and other general information on the U.S. population,\n",
    "suppose it has been estimated that, on average, a family of four in the U.S. spends\n",
    "about $1135 annually on dental expenditures. Suppose further that a regional dental\n",
    "association wants to test to determine if this figure is accurate for their area of\n",
    "country. To test this, 22 families of 4 are randomly selected from the population in\n",
    "that area of the country and a log is kept of the family’s dental expenditure for one\n",
    "year. The resulting data are given below. Assuming, that dental expenditure is\n",
    "normally distributed in the population, use the data and an alpha of 0.5 to test the\n",
    "dental association’s hypothesis.\n",
    "\n",
    "1008, 812, 1117, 1323, 1308, 1415, 831, 1021, 1287, 851, 930, 730, 699,\n",
    "872, 913, 944, 954, 987, 1695, 995, 1003, 994\n",
    "\"\"\"\n",
    "from scipy.stats import zscore\n",
    "import numpy as np\n",
    "\n",
    "mu=1135\n",
    "n=22\n",
    "alpha=0.5\n",
    "data=[1008, 812, 1117, 1323, 1308, 1415, 831, 1021, 1287, 851, 930, 730, 699,\n",
    "872, 913, 944, 954, 987, 1695, 995, 1003, 994]\n",
    "mu_sample=np.mean(data)\n",
    "\n",
    "#H0 : mu=34\n",
    "#H1 : mu!=34 \n",
    "# Two tailed test\n",
    "# do t test;skaosdao\n",
    "z_critical=norm.ppf(1-0.5/2)\n",
    "z=(mu_sample-mu)*(50**0.5)/std\n",
    "print(f\"The z statistic={z} < z critical={z_critical} , hence we accept the null hypothesis.\")"
   ]
  },
  {
   "cell_type": "code",
   "execution_count": 36,
   "metadata": {},
   "outputs": [
    {
     "data": {
      "text/plain": [
       "1031.3181818181818"
      ]
     },
     "execution_count": 36,
     "metadata": {},
     "output_type": "execute_result"
    }
   ],
   "source": [
    "mu_sample"
   ]
  },
  {
   "cell_type": "code",
   "execution_count": null,
   "metadata": {},
   "outputs": [],
   "source": []
  }
 ],
 "metadata": {
  "kernelspec": {
   "display_name": "Python 3",
   "language": "python",
   "name": "python3"
  },
  "language_info": {
   "codemirror_mode": {
    "name": "ipython",
    "version": 3
   },
   "file_extension": ".py",
   "mimetype": "text/x-python",
   "name": "python",
   "nbconvert_exporter": "python",
   "pygments_lexer": "ipython3",
   "version": "3.8.3"
  }
 },
 "nbformat": 4,
 "nbformat_minor": 4
}
