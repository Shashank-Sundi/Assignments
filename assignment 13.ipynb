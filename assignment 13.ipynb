{
 "cells": [
  {
   "cell_type": "code",
   "execution_count": 11,
   "metadata": {},
   "outputs": [
    {
     "name": "stdout",
     "output_type": "stream",
     "text": [
      "The chi2 statistic 8.006066246262538 is greater than the chi2_critical value 7.814727903251179.Hence we reject the null hypothesis that there a relationship between the gender of an individual and the level of education that they have obtained\n"
     ]
    }
   ],
   "source": [
    "#Q1\n",
    "\"\"\"Problem Statement 1:\n",
    "Is gender independent of education level? A random sample of 395 people were\n",
    "surveyed and each person was asked to report the highest education level they\n",
    "obtained. The data that resulted from the survey is summarized in the following table:\n",
    "        High School Bachelors Masters Ph.d. Total\n",
    "Female        60        54     46      41    201\n",
    "Male          40        44     53      57    194\n",
    "Total        100        98     99      98    395\n",
    "Question: Are gender and education level dependent at 5% level of significance? In\n",
    "other words, given the data collected above, is there a relationship between the\n",
    "gender of an individual and the level of education that they have obtained?\"\"\"\n",
    "\n",
    "from scipy.stats import chi2_contingency,chi2\n",
    "obs=[[60 ,54 ,46 ,41 ,201],[40 ,44 ,53, 57, 194],[100 ,98 ,99, 98 ,395]]\n",
    "result=chi2_contingency(obs)\n",
    "chi_critical=chi2.ppf(1-0.05,3)\n",
    "print(f\"The chi2 statistic {result[0]} is greater than the chi2_critical value {chi_critical}.Hence we reject the null hypothesis that there a relationship between the gender of an individual and the level of education that they have obtained\")"
   ]
  },
  {
   "cell_type": "code",
   "execution_count": 26,
   "metadata": {},
   "outputs": [
    {
     "name": "stdout",
     "output_type": "stream",
     "text": [
      "The f statistic 9.747205503009463 is greater than the f_critical [3.8852938346523933].Hence we reject the null hypothesis that the mean of all groups is same\n"
     ]
    }
   ],
   "source": [
    "#Q2\n",
    "\"\"\"Problem Statement 2:\n",
    "Using the following data, perform a oneway analysis of variance using α=.05. Write\n",
    "up the results in APA format.\n",
    "[Group1: 51, 45, 33, 45, 67]\n",
    "[Group2: 23, 43, 23, 43, 45]\n",
    "[Group3: 56, 76, 74, 87, 56]\"\"\"\n",
    "\n",
    "# H0: mu1=mu2=mu3\n",
    "# H1: mui != muj\n",
    "\n",
    "from scipy.stats import f_oneway , f\n",
    "Group1 = [51, 45, 33, 45, 67]\n",
    "Group2 = [23, 43, 23, 43, 45]\n",
    "Group3 = [56, 76, 74, 87, 56]\n",
    "\n",
    "result= f_oneway(Group1,Group2,Group3)\n",
    "critical=f.ppf(1-0.05,2,12)\n",
    "print(f\"The f statistic {result[0]} is greater than the f_critical [{critical}].Hence we reject the null hypothesis that the mean of all groups is same\")"
   ]
  },
  {
   "cell_type": "code",
   "execution_count": 31,
   "metadata": {},
   "outputs": [
    {
     "name": "stdout",
     "output_type": "stream",
     "text": [
      "The f statistic 24.269114383699833 is greater than the f_critical [5.095867165783942].Hence we reject the null hypothesis that the mean of all groups is same\n"
     ]
    }
   ],
   "source": [
    "#Q3\n",
    "\"\"\"Problem Statement 3:\n",
    "Calculate F Test for given 10, 20, 30, 40, 50 and 5,10,15, 20, 25.\n",
    "For 10, 20, 30, 40, 50:\"\"\"\n",
    "\n",
    "Group1 = [10, 20, 30, 40, 50]\n",
    "Group2 = [5, 10, 15, 20 , 25]\n",
    "result= f_oneway(Group1,Group2,Group3)\n",
    "critical=f.ppf(1-0.05/2,2,12)\n",
    "print(f\"The f statistic {result[0]} is greater than the f_critical [{critical}].Hence we reject the null hypothesis that the mean of all groups is same\")"
   ]
  }
 ],
 "metadata": {
  "kernelspec": {
   "display_name": "Python 3",
   "language": "python",
   "name": "python3"
  },
  "language_info": {
   "codemirror_mode": {
    "name": "ipython",
    "version": 3
   },
   "file_extension": ".py",
   "mimetype": "text/x-python",
   "name": "python",
   "nbconvert_exporter": "python",
   "pygments_lexer": "ipython3",
   "version": "3.8.3"
  }
 },
 "nbformat": 4,
 "nbformat_minor": 4
}
