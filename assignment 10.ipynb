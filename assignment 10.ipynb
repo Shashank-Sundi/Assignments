{
 "cells": [
  {
   "cell_type": "code",
   "execution_count": 4,
   "metadata": {},
   "outputs": [
    {
     "name": "stdout",
     "output_type": "stream",
     "text": [
      " Mean=6.85 , Median : 7.0 , Mode : 7 , Standard deviation : 1.5898113095584647\n"
     ]
    }
   ],
   "source": [
    "#Q1\n",
    "\"\"\"The marks awarded for an assignment set for a Year 8 class of 20 students were as\n",
    "follows:\n",
    "6 7 5 7 7 8 7 6 9 7 4 10 6 8 8 9 5 6 4 8\"\"\"\n",
    "\n",
    "import numpy as np\n",
    "from scipy import stats\n",
    "\n",
    "marks=[6, 7, 5 ,7, 7 ,8 ,7 ,6 ,9 ,7, 4, 10, 6 ,8, 8, 9, 5, 6, 4, 8]\n",
    "mean=np.mean(marks)\n",
    "median=np.median(marks)\n",
    "mode=stats.mode(marks)\n",
    "stddev=np.std(marks)\n",
    "print(f\" Mean={mean} , Median : {median} , Mode : {int(mode[0])} , Standard deviation : {stddev}\")\n"
   ]
  },
  {
   "cell_type": "code",
   "execution_count": 30,
   "metadata": {},
   "outputs": [
    {
     "name": "stdout",
     "output_type": "stream",
     "text": [
      " Mean=107.51428571428572 , Median : 100.0 , Mode : 75 , Standard deviation : 38.77287080168403\n"
     ]
    }
   ],
   "source": [
    "#Q2\n",
    "\"\"\"The number of calls from motorists per day for roadside service was recorded for a\n",
    "particular month:\n",
    "28, 122, 217, 130, 120, 86, 80, 90, 140, 120, 70, 40, 145, 113, 90, 68, 174, 194, 170,\n",
    "100, 75, 104, 97, 75,123, 100, 75, 104, 97, 75, 123, 100, 89, 120, 109\"\"\"\n",
    "\n",
    "calls=[28, 122, 217, 130, 120, 86, 80, 90, 140, 120, 70, 40, 145, 113, 90, 68, 174, 194, 170,\n",
    "100, 75, 104, 97, 75,123, 100, 75, 104, 97, 75, 123, 100, 89, 120, 109]\n",
    "\n",
    "mean=np.mean(calls)\n",
    "median=np.median(calls)\n",
    "mode=stats.mode(calls)\n",
    "stddev=np.std(calls)\n",
    "print(f\" Mean={mean} , Median : {median} , Mode : {int(mode[0])} , Standard deviation : {stddev}\")\n",
    "\n"
   ]
  },
  {
   "cell_type": "code",
   "execution_count": 42,
   "metadata": {},
   "outputs": [
    {
     "name": "stdout",
     "output_type": "stream",
     "text": [
      "Mean no. of workouts :  2.15 \n",
      "Variance : 1.2275\n"
     ]
    }
   ],
   "source": [
    "#Q3\n",
    "\"\"\"The number of times I go to the gym in weekdays, are given below along with its\n",
    "associated probability:\n",
    "x = 0, 1, 2, 3, 4, 5\n",
    "f(x) = 0.09, 0.15, 0.40, 0.25, 0.10, 0.01\n",
    "Calculate the mean no. of workouts in a week. Also evaluate the variance involved in\n",
    "it.\"\"\"\n",
    "\n",
    "x = [0, 1, 2, 3, 4, 5]\n",
    "f_x = [0.09, 0.15, 0.40, 0.25, 0.10, 0.01]\n",
    "\n",
    "mean_no_workouts=np.dot(x,f_x)\n",
    "variance=np.sum(np.multiply((x-mean_no_workouts)**2,f_x))\n",
    "print(\"Mean no. of workouts : \",mean_no_workouts ,\"\\nVariance :\",variance)"
   ]
  },
  {
   "cell_type": "code",
   "execution_count": 49,
   "metadata": {},
   "outputs": [],
   "source": [
    "#Q4\n",
    "\"\"\"Let the continuous random variable D denote the diameter of the hole drilled in an\n",
    "aluminum sheet. The target diameter to be achieved is 12.5mm. Random\n",
    "disturbances in the process often result in inaccuracy.\n",
    "Historical data shows that the distribution of D can be modelled by the PDF (𝑑) =\n",
    "20𝑒−20(𝑑−12.5), 𝑑 ≥ 12.5. If a part with diameter > 12.6 mm needs to be scrapped,\n",
    "what is the proportion of those parts? What is the CDF when the diameter is of 11\n",
    "mm? What is your conclusion regarding the proportion of scraps?\"\"\"\n",
    "\n",
    "PDF=lambda d:20*(np.exp((-20*(d-12.5))))"
   ]
  },
  {
   "cell_type": "code",
   "execution_count": 47,
   "metadata": {},
   "outputs": [],
   "source": [
    "def PDF(d):\n",
    "    pdf=20*np.exp(-20*(d-12.5))\n",
    "    \n",
    "CDF=np.cumsum(PDF(12))"
   ]
  },
  {
   "cell_type": "code",
   "execution_count": 70,
   "metadata": {},
   "outputs": [
    {
     "name": "stdout",
     "output_type": "stream",
     "text": [
      "Probability of having 2 faulty LEDs in the sample :  0.32413499999999995 \n",
      "Mean=1.7999999999999998 \n",
      "variance=1.2599999999999998\n"
     ]
    }
   ],
   "source": [
    "#Q5\n",
    "\"\"\"A company manufactures LED bulbs with a faulty rate of 30%. If I randomly select 6\n",
    "chosen LEDs, what is the probability of having 2 faulty LEDs in my sample?\n",
    "Calculate the average value of this process. Also evaluate the standard deviation\n",
    "associated with it.\"\"\"\n",
    "\n",
    "from scipy.stats import binom\n",
    "p=0.3\n",
    "q=0.7\n",
    "# we use binomial distribution for such problems\n",
    "faulty_prob=binom.pmf(2,6,0.3)\n",
    "mean,var=binom.stats(6,0.3,moments='mv')\n",
    "print(\"Probability of having 2 faulty LEDs in the sample : \",faulty_prob ,\"\\nMean={} \\nvariance={}\".format(mean,var))\n"
   ]
  },
  {
   "cell_type": "code",
   "execution_count": 88,
   "metadata": {},
   "outputs": [
    {
     "name": "stdout",
     "output_type": "stream",
     "text": [
      "Probability that each of them will solve 5 questions correctly =  0.003436355497164702\n",
      "Probability that each of them will solve 4,6 questions correctly =  0.01837495647789457\n"
     ]
    }
   ],
   "source": [
    "#6\n",
    "\"\"\"Gaurav and Barakha are both preparing for entrance exams. Gaurav attempts to\n",
    "solve 8 questions per day with a correction rate of 75%, while Barakha averages\n",
    "around 12 questions per day with a correction rate of 45%. What is the probability\n",
    "that each of them will solve 5 questions correctly? What happens in cases of 4 and 6\n",
    "correct solutions? What do you infer from it? What are the two main governing\n",
    "factors affecting their ability to solve questions correctly? Give a pictorial\n",
    "representation of the same to validate your answer.\"\"\"\n",
    "\n",
    "#correction rate=error rate\n",
    "\n",
    "from scipy.stats import binom\n",
    "p_gaurav,p_barkha=1-0.75,1-0.45\n",
    "n_gaurav,n_barkha=8,12\n",
    "k=5\n",
    "prob_gaurav=binom.pmf(k,n_gaurav,p_gaurav)\n",
    "prob_barkha=binom.pmf(k,n_barkha,p_barkha)\n",
    "print(\"Probability that each of them will solve 5 questions correctly = \",prob_barkha*prob_gaurav)\n",
    "print(\"Probability that each of them will solve 4,6 questions correctly = \",binom.pmf(4,n_gaurav,p_gaurav)*binom.pmf(6,n_barkha,p_barkha))\n"
   ]
  },
  {
   "cell_type": "code",
   "execution_count": 91,
   "metadata": {},
   "outputs": [
    {
     "name": "stdout",
     "output_type": "stream",
     "text": [
      "Prob that gaurav solves 5 out of 8 questions correctly :  0.02307128906250001\n",
      "Prob that gaurav solves 4 out of 8 questions correctly :  0.08651733398437506\n",
      "Gaurav solves  2.0 questions correctly on average , with a variance of  1.5\n",
      "\n",
      "Prob that barkha solves 5 out of 12 questions correctly :  0.1489451017607049\n",
      "Prob that barkha solves 6 out of 12 questions correctly :  0.21238468214026415\n",
      "Barkha solves  6.6000000000000005 questions correctly on average , with a variance of  2.9699999999999998\n"
     ]
    }
   ],
   "source": [
    "print(\"Prob that gaurav solves 5 out of 8 questions correctly : \",prob_gaurav)\n",
    "print(\"Prob that gaurav solves 4 out of 8 questions correctly : \",binom.pmf(4,n_gaurav,p_gaurav))\n",
    "mean,var=binom.stats(8,1-0.75,moments='mv')\n",
    "print(\"Gaurav solves \",mean ,\"questions correctly on average , with a variance of \",var)\n",
    "\n",
    "print(\"\\nProb that barkha solves 5 out of 12 questions correctly : \",prob_barkha)\n",
    "print(\"Prob that barkha solves 6 out of 12 questions correctly : \",binom.pmf(6,n_barkha,p_barkha))\n",
    "mean,var=binom.stats(12,1-0.45,moments='mv')\n",
    "print(\"Barkha solves \",mean ,\"questions correctly on average , with a variance of \",var)"
   ]
  },
  {
   "cell_type": "code",
   "execution_count": 124,
   "metadata": {},
   "outputs": [
    {
     "data": {
      "image/png": "[encoded data removed]",
      "text/plain": [
       "<Figure size 432x288 with 1 Axes>"
      ]
     },
     "metadata": {
      "needs_background": "light"
     },
     "output_type": "display_data"
    },
    {
     "data": {
      "image/png": "[encoded data removed]",
      "text/plain": [
       "<Figure size 432x288 with 1 Axes>"
      ]
     },
     "metadata": {
      "needs_background": "light"
     },
     "output_type": "display_data"
    }
   ],
   "source": [
    "# We can infer that Barkha is a much better problem solver in terms of correctness of answers , than Gaurav.\n",
    "# Probability that gaurav solves 4 questions correctly is higher than when he solves 5 questions ,since average no. of problems he can solve is  2 , whereas for barkha it is 6.\n",
    "\n",
    "import matplotlib.pyplot as plt\n",
    "\n",
    "def binom_plot(n,p,):\n",
    "    fig,ax=plt.subplots(1,1)\n",
    "    x = np.arange(binom.ppf(0.01, n, p),binom.ppf(0.99, n, p))\n",
    "    ax.plot(x, binom.pmf(x, n, p),'bs',  label='binom pmf',)\n",
    "    plt.plot(range(n),binom.pmf(range(n),n,p))\n",
    "    ax.vlines(x, 0, binom.pmf(x, n, p), )\n",
    "    \n",
    "binom_plot(8,1-0.75)\n",
    "binom_plot(12,1-0.45)"
   ]
  },
  {
   "cell_type": "code",
   "execution_count": 201,
   "metadata": {},
   "outputs": [
    {
     "name": "stdout",
     "output_type": "stream",
     "text": [
      "The probability of arriving 5 cutomers in 4 minutes is : 0.15169069760753717\n",
      "The probability of arriving not more than 3 customers in 4 minutes is : 0.2942299164965641\n",
      "The Probability of more than 3 customers arriving in 4 minutes is : 0.705770083503436\n"
     ]
    }
   ],
   "source": [
    "#7\n",
    "\"\"\"Customers arrive at a rate of 72 per hour to my shop. What is the probability of 𝑘\n",
    "customers arriving in 4 minutes? a) 5 customers, b) not more than 3 customers, c)\n",
    "more than 3 customers. Give a pictorial representation of the same to validate your\n",
    "answer.\"\"\"\n",
    "from scipy.stats import poisson\n",
    "import math\n",
    "mu=(72/60)*4\n",
    "p=np.exp(-mu)*np.power(mu,5)/(5*4*3*2)\n",
    "a=0\n",
    "y=[]\n",
    "for i in range(0,4):\n",
    "    p=np.exp(-mu)*np.power(mu,i)/math.factorial(i)\n",
    "    y.append(p)\n",
    "    a+=p \n",
    " \n",
    "print(f\"The probability of arriving 5 cutomers in 4 minutes is : {p}\")\n",
    "print(f\"The probability of arriving not more than 3 customers in 4 minutes is : {a}\")\n",
    "print(f'The Probability of more than 3 customers arriving in 4 minutes is : {1-a}')"
   ]
  },
  {
   "cell_type": "code",
   "execution_count": 199,
   "metadata": {},
   "outputs": [
    {
     "data": {
      "text/plain": [
       "<matplotlib.collections.LineCollection at 0x2078e661640>"
      ]
     },
     "execution_count": 199,
     "metadata": {},
     "output_type": "execute_result"
    },
    {
     "data": {
      "image/png": "[encoded data removed]",
      "text/plain": [
       "<Figure size 432x288 with 1 Axes>"
      ]
     },
     "metadata": {
      "needs_background": "light"
     },
     "output_type": "display_data"
    }
   ],
   "source": [
    "fig,ax=plt.subplots()\n",
    "plt.plot([0,1,2,3],y,'bo')\n",
    "plt.bar([0,1,2,3],y)\n",
    "ax.hlines(y,-1,[0,1,2,3])"
   ]
  },
  {
   "cell_type": "code",
   "execution_count": 222,
   "metadata": {},
   "outputs": [
    {
     "data": {
      "text/plain": [
       "Text(0, 0.5, 'Probability CDF')"
      ]
     },
     "execution_count": 222,
     "metadata": {},
     "output_type": "execute_result"
    },
    {
     "data": {
      "image/png": "[encoded data removed]",
      "text/plain": [
       "<Figure size 360x360 with 1 Axes>"
      ]
     },
     "metadata": {
      "needs_background": "light"
     },
     "output_type": "display_data"
    },
    {
     "data": {
      "image/png": "[encoded data removed]",
      "text/plain": [
       "<Figure size 216x360 with 1 Axes>"
      ]
     },
     "metadata": {
      "needs_background": "light"
     },
     "output_type": "display_data"
    },
    {
     "data": {
      "image/png": "[encoded data removed]",
      "text/plain": [
       "<Figure size 360x360 with 1 Axes>"
      ]
     },
     "metadata": {
      "needs_background": "light"
     },
     "output_type": "display_data"
    }
   ],
   "source": [
    "\n",
    "x = list(range(0,15))\n",
    "fig,ax = plt.subplots(1,1,figsize=(5,5))\n",
    "ax.plot(x, poisson.pmf(x,mu), 'bo', ms=8, label='poisson pmf')\n",
    "ax.vlines(x, 0, poisson.pmf(x, mu), colors='b', lw=5, alpha=0.5)\n",
    "plt.xlabel('Number of customers')\n",
    "plt.ylabel('Probability PDF ')\n",
    "\n",
    "x = list(range(0,4))\n",
    "fig,ax = plt.subplots(1,1,figsize=(3,5))\n",
    "ax.plot(x, poisson.cdf(x,mu), 'bo', ms=8, label='poisson pmf')\n",
    "ax.vlines(x, 0, poisson.cdf(x, mu), colors='b', lw=5, alpha=0.5)\n",
    "plt.xlabel('Number of customers')\n",
    "plt.ylabel('Probability CDF')\n",
    "\n",
    "x = list(range(3,15))\n",
    "fig,ax = plt.subplots(1,1,figsize=(5,5))\n",
    "ax.plot(x, poisson.cdf(x,mu), 'bo', ms=8, label='poisson pmf')\n",
    "ax.vlines(x, 0, poisson.cdf(x, mu), colors='b', lw=5, alpha=0.5)\n",
    "plt.xlabel('Number of customers')\n",
    "plt.ylabel('Probability CDF')"
   ]
  },
  {
   "cell_type": "code",
   "execution_count": 223,
   "metadata": {},
   "outputs": [
    {
     "data": {
      "text/plain": [
       "0.7056227874663288"
      ]
     },
     "execution_count": 223,
     "metadata": {},
     "output_type": "execute_result"
    }
   ],
   "source": [
    "poisson.cdf(14, mu)-poisson.cdf(3, mu)"
   ]
  },
  {
   "cell_type": "code",
   "execution_count": null,
   "metadata": {},
   "outputs": [],
   "source": []
  }
 ],
 "metadata": {
  "kernelspec": {
   "display_name": "Python 3",
   "language": "python",
   "name": "python3"
  },
  "language_info": {
   "codemirror_mode": {
    "name": "ipython",
    "version": 3
   },
   "file_extension": ".py",
   "mimetype": "text/x-python",
   "name": "python",
   "nbconvert_exporter": "python",
   "pygments_lexer": "ipython3",
   "version": "3.8.3"
  }
 },
 "nbformat": 4,
 "nbformat_minor": 4
}
