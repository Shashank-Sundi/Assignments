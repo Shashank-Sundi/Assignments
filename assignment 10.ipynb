{
 "cells": [
  {
   "cell_type": "code",
   "execution_count": 4,
   "metadata": {},
   "outputs": [
    {
     "name": "stdout",
     "output_type": "stream",
     "text": [
      " Mean=6.85 , Median : 7.0 , Mode : 7 , Standard deviation : 1.5898113095584647\n"
     ]
    }
   ],
   "source": [
    "#Q1\n",
    "\"\"\"The marks awarded for an assignment set for a Year 8 class of 20 students were as\n",
    "follows:\n",
    "6 7 5 7 7 8 7 6 9 7 4 10 6 8 8 9 5 6 4 8\"\"\"\n",
    "\n",
    "import numpy as np\n",
    "from scipy import stats\n",
    "\n",
    "marks=[6, 7, 5 ,7, 7 ,8 ,7 ,6 ,9 ,7, 4, 10, 6 ,8, 8, 9, 5, 6, 4, 8]\n",
    "mean=np.mean(marks)\n",
    "median=np.median(marks)\n",
    "mode=stats.mode(marks)\n",
    "stddev=np.std(marks)\n",
    "print(f\" Mean={mean} , Median : {median} , Mode : {int(mode[0])} , Standard deviation : {stddev}\")\n"
   ]
  },
  {
   "cell_type": "code",
   "execution_count": 30,
   "metadata": {},
   "outputs": [
    {
     "name": "stdout",
     "output_type": "stream",
     "text": [
      " Mean=107.51428571428572 , Median : 100.0 , Mode : 75 , Standard deviation : 38.77287080168403\n"
     ]
    }
   ],
   "source": [
    "#Q2\n",
    "\"\"\"The number of calls from motorists per day for roadside service was recorded for a\n",
    "particular month:\n",
    "28, 122, 217, 130, 120, 86, 80, 90, 140, 120, 70, 40, 145, 113, 90, 68, 174, 194, 170,\n",
    "100, 75, 104, 97, 75,123, 100, 75, 104, 97, 75, 123, 100, 89, 120, 109\"\"\"\n",
    "\n",
    "calls=[28, 122, 217, 130, 120, 86, 80, 90, 140, 120, 70, 40, 145, 113, 90, 68, 174, 194, 170,\n",
    "100, 75, 104, 97, 75,123, 100, 75, 104, 97, 75, 123, 100, 89, 120, 109]\n",
    "\n",
    "mean=np.mean(calls)\n",
    "median=np.median(calls)\n",
    "mode=stats.mode(calls)\n",
    "stddev=np.std(calls)\n",
    "print(f\" Mean={mean} , Median : {median} , Mode : {int(mode[0])} , Standard deviation : {stddev}\")\n",
    "\n"
   ]
  },
  {
   "cell_type": "code",
   "execution_count": 42,
   "metadata": {},
   "outputs": [
    {
     "name": "stdout",
     "output_type": "stream",
     "text": [
      "Mean no. of workouts :  2.15 \n",
      "Variance : 1.2275\n"
     ]
    }
   ],
   "source": [
    "#Q3\n",
    "\"\"\"The number of times I go to the gym in weekdays, are given below along with its\n",
    "associated probability:\n",
    "x = 0, 1, 2, 3, 4, 5\n",
    "f(x) = 0.09, 0.15, 0.40, 0.25, 0.10, 0.01\n",
    "Calculate the mean no. of workouts in a week. Also evaluate the variance involved in\n",
    "it.\"\"\"\n",
    "\n",
    "x = [0, 1, 2, 3, 4, 5]\n",
    "f_x = [0.09, 0.15, 0.40, 0.25, 0.10, 0.01]\n",
    "\n",
    "mean_no_workouts=np.dot(x,f_x)\n",
    "variance=np.sum(np.multiply((x-mean_no_workouts)**2,f_x))\n",
    "print(\"Mean no. of workouts : \",mean_no_workouts ,\"\\nVariance :\",variance)"
   ]
  },
  {
   "cell_type": "code",
   "execution_count": 175,
   "metadata": {},
   "outputs": [
    {
     "data": {
      "text/plain": [
       "'Let the continuous random variable D denote the diameter of the hole drilled in an\\naluminum sheet. The target diameter to be achieved is 12.5mm. Random\\ndisturbances in the process often result in inaccuracy.\\nHistorical data shows that the distribution of D can be modelled by the PDF (𝑑) =\\n20𝑒−20(𝑑−12.5), 𝑑 ≥ 12.5. If a part with diameter > 12.6 mm needs to be scrapped,\\nwhat is the proportion of those parts? What is the CDF when the diameter is of 11\\nmm? What is your conclusion regarding the proportion of scraps?'"
      ]
     },
     "execution_count": 175,
     "metadata": {},
     "output_type": "execute_result"
    }
   ],
   "source": [
    "#Q4\n",
    "\"\"\"Let the continuous random variable D denote the diameter of the hole drilled in an\n",
    "aluminum sheet. The target diameter to be achieved is 12.5mm. Random\n",
    "disturbances in the process often result in inaccuracy.\n",
    "Historical data shows that the distribution of D can be modelled by the PDF (𝑑) =\n",
    "20𝑒−20(𝑑−12.5), 𝑑 ≥ 12.5. If a part with diameter > 12.6 mm needs to be scrapped,\n",
    "what is the proportion of those parts? What is the CDF when the diameter is of 11\n",
    "mm? What is your conclusion regarding the proportion of scraps?\"\"\"\n",
    "\n",
    "\n"
   ]
  },
  {
   "cell_type": "code",
   "execution_count": 70,
   "metadata": {},
   "outputs": [
    {
     "name": "stdout",
     "output_type": "stream",
     "text": [
      "Probability of having 2 faulty LEDs in the sample :  0.32413499999999995 \n",
      "Mean=1.7999999999999998 \n",
      "variance=1.2599999999999998\n"
     ]
    }
   ],
   "source": [
    "#Q5\n",
    "\"\"\"A company manufactures LED bulbs with a faulty rate of 30%. If I randomly select 6\n",
    "chosen LEDs, what is the probability of having 2 faulty LEDs in my sample?\n",
    "Calculate the average value of this process. Also evaluate the standard deviation\n",
    "associated with it.\"\"\"\n",
    "\n",
    "from scipy.stats import binom\n",
    "p=0.3\n",
    "q=0.7\n",
    "# we use binomial distribution for such problems\n",
    "faulty_prob=binom.pmf(2,6,0.3)\n",
    "mean,var=binom.stats(6,0.3,moments='mv')\n",
    "print(\"Probability of having 2 faulty LEDs in the sample : \",faulty_prob ,\"\\nMean={} \\nvariance={}\".format(mean,var))\n"
   ]
  },
  {
   "cell_type": "code",
   "execution_count": 88,
   "metadata": {},
   "outputs": [
    {
     "name": "stdout",
     "output_type": "stream",
     "text": [
      "Probability that each of them will solve 5 questions correctly =  0.003436355497164702\n",
      "Probability that each of them will solve 4,6 questions correctly =  0.01837495647789457\n"
     ]
    }
   ],
   "source": [
    "#6\n",
    "\"\"\"Gaurav and Barakha are both preparing for entrance exams. Gaurav attempts to\n",
    "solve 8 questions per day with a correction rate of 75%, while Barakha averages\n",
    "around 12 questions per day with a correction rate of 45%. What is the probability\n",
    "that each of them will solve 5 questions correctly? What happens in cases of 4 and 6\n",
    "correct solutions? What do you infer from it? What are the two main governing\n",
    "factors affecting their ability to solve questions correctly? Give a pictorial\n",
    "representation of the same to validate your answer.\"\"\"\n",
    "\n",
    "#correction rate=error rate\n",
    "\n",
    "from scipy.stats import binom\n",
    "p_gaurav,p_barkha=1-0.75,1-0.45\n",
    "n_gaurav,n_barkha=8,12\n",
    "k=5\n",
    "prob_gaurav=binom.pmf(k,n_gaurav,p_gaurav)\n",
    "prob_barkha=binom.pmf(k,n_barkha,p_barkha)\n",
    "print(\"Probability that each of them will solve 5 questions correctly = \",prob_barkha*prob_gaurav)\n",
    "print(\"Probability that each of them will solve 4,6 questions correctly = \",binom.pmf(4,n_gaurav,p_gaurav)*binom.pmf(6,n_barkha,p_barkha))\n"
   ]
  },
  {
   "cell_type": "code",
   "execution_count": 91,
   "metadata": {},
   "outputs": [
    {
     "name": "stdout",
     "output_type": "stream",
     "text": [
      "Prob that gaurav solves 5 out of 8 questions correctly :  0.02307128906250001\n",
      "Prob that gaurav solves 4 out of 8 questions correctly :  0.08651733398437506\n",
      "Gaurav solves  2.0 questions correctly on average , with a variance of  1.5\n",
      "\n",
      "Prob that barkha solves 5 out of 12 questions correctly :  0.1489451017607049\n",
      "Prob that barkha solves 6 out of 12 questions correctly :  0.21238468214026415\n",
      "Barkha solves  6.6000000000000005 questions correctly on average , with a variance of  2.9699999999999998\n"
     ]
    }
   ],
   "source": [
    "print(\"Prob that gaurav solves 5 out of 8 questions correctly : \",prob_gaurav)\n",
    "print(\"Prob that gaurav solves 4 out of 8 questions correctly : \",binom.pmf(4,n_gaurav,p_gaurav))\n",
    "mean,var=binom.stats(8,1-0.75,moments='mv')\n",
    "print(\"Gaurav solves \",mean ,\"questions correctly on average , with a variance of \",var)\n",
    "\n",
    "print(\"\\nProb that barkha solves 5 out of 12 questions correctly : \",prob_barkha)\n",
    "print(\"Prob that barkha solves 6 out of 12 questions correctly : \",binom.pmf(6,n_barkha,p_barkha))\n",
    "mean,var=binom.stats(12,1-0.45,moments='mv')\n",
    "print(\"Barkha solves \",mean ,\"questions correctly on average , with a variance of \",var)"
   ]
  },
  {
   "cell_type": "code",
   "execution_count": 124,
   "metadata": {},
   "outputs": [
    {
     "data": {
      "image/png": "[encoded data removed]",
      "text/plain": [
       "<Figure size 432x288 with 1 Axes>"
      ]
     },
     "metadata": {
      "needs_background": "light"
     },
     "output_type": "display_data"
    },
    {
     "data": {
      "image/png": "[encoded data removed]",
      "text/plain": [
       "<Figure size 432x288 with 1 Axes>"
      ]
     },
     "metadata": {
      "needs_background": "light"
     },
     "output_type": "display_data"
    }
   ],
   "source": [
    "# We can infer that Barkha is a much better problem solver in terms of correctness of answers , than Gaurav.\n",
    "# Probability that gaurav solves 4 questions correctly is higher than when he solves 5 questions ,since average no. of problems he can solve is  2 , whereas for barkha it is 6.\n",
    "\n",
    "import matplotlib.pyplot as plt\n",
    "\n",
    "def binom_plot(n,p,):\n",
    "    fig,ax=plt.subplots(1,1)\n",
    "    x = np.arange(binom.ppf(0.01, n, p),binom.ppf(0.99, n, p))\n",
    "    ax.plot(x, binom.pmf(x, n, p),'bs',  label='binom pmf',)\n",
    "    plt.plot(range(n),binom.pmf(range(n),n,p))\n",
    "    ax.vlines(x, 0, binom.pmf(x, n, p), )\n",
    "    \n",
    "binom_plot(8,1-0.75)\n",
    "binom_plot(12,1-0.45)"
   ]
  },
  {
   "cell_type": "code",
   "execution_count": 201,
   "metadata": {},
   "outputs": [
    {
     "name": "stdout",
     "output_type": "stream",
     "text": [
      "The probability of arriving 5 cutomers in 4 minutes is : 0.15169069760753717\n",
      "The probability of arriving not more than 3 customers in 4 minutes is : 0.2942299164965641\n",
      "The Probability of more than 3 customers arriving in 4 minutes is : 0.705770083503436\n"
     ]
    }
   ],
   "source": [
    "#7\n",
    "\"\"\"Customers arrive at a rate of 72 per hour to my shop. What is the probability of 𝑘\n",
    "customers arriving in 4 minutes? a) 5 customers, b) not more than 3 customers, c)\n",
    "more than 3 customers. Give a pictorial representation of the same to validate your\n",
    "answer.\"\"\"\n",
    "from scipy.stats import poisson\n",
    "import math\n",
    "mu=(72/60)*4\n",
    "p=np.exp(-mu)*np.power(mu,5)/(5*4*3*2)\n",
    "a=0\n",
    "y=[]\n",
    "for i in range(0,4):\n",
    "    p=np.exp(-mu)*np.power(mu,i)/math.factorial(i)\n",
    "    y.append(p)\n",
    "    a+=p \n",
    " \n",
    "print(f\"The probability of arriving 5 cutomers in 4 minutes is : {p}\")\n",
    "print(f\"The probability of arriving not more than 3 customers in 4 minutes is : {a}\")\n",
    "print(f'The Probability of more than 3 customers arriving in 4 minutes is : {1-a}')"
   ]
  },
  {
   "cell_type": "code",
   "execution_count": 199,
   "metadata": {},
   "outputs": [
    {
     "data": {
      "text/plain": [
       "<matplotlib.collections.LineCollection at 0x2078e661640>"
      ]
     },
     "execution_count": 199,
     "metadata": {},
     "output_type": "execute_result"
    },
    {
     "data": {
      "image/png": "[encoded data removed]",
      "text/plain": [
       "<Figure size 432x288 with 1 Axes>"
      ]
     },
     "metadata": {
      "needs_background": "light"
     },
     "output_type": "display_data"
    }
   ],
   "source": [
    "fig,ax=plt.subplots()\n",
    "plt.plot([0,1,2,3],y,'bo')\n",
    "plt.bar([0,1,2,3],y)\n",
    "ax.hlines(y,-1,[0,1,2,3])"
   ]
  },
  {
   "cell_type": "code",
   "execution_count": 222,
   "metadata": {},
   "outputs": [
    {
     "data": {
      "text/plain": [
       "Text(0, 0.5, 'Probability CDF')"
      ]
     },
     "execution_count": 222,
     "metadata": {},
     "output_type": "execute_result"
    },
    {
     "data": {
      "image/png": "[encoded data removed]",
      "text/plain": [
       "<Figure size 360x360 with 1 Axes>"
      ]
     },
     "metadata": {
      "needs_background": "light"
     },
     "output_type": "display_data"
    },
    {
     "data": {
      "image/png": "[encoded data removed]",
      "text/plain": [
       "<Figure size 216x360 with 1 Axes>"
      ]
     },
     "metadata": {
      "needs_background": "light"
     },
     "output_type": "display_data"
    },
    {
     "data": {
      "image/png": "[encoded data removed]",
      "text/plain": [
       "<Figure size 360x360 with 1 Axes>"
      ]
     },
     "metadata": {
      "needs_background": "light"
     },
     "output_type": "display_data"
    }
   ],
   "source": [
    "\n",
    "x = list(range(0,15))\n",
    "fig,ax = plt.subplots(1,1,figsize=(5,5))\n",
    "ax.plot(x, poisson.pmf(x,mu), 'bo', ms=8, label='poisson pmf')\n",
    "ax.vlines(x, 0, poisson.pmf(x, mu), colors='b', lw=5, alpha=0.5)\n",
    "plt.xlabel('Number of customers')\n",
    "plt.ylabel('Probability PDF ')\n",
    "\n",
    "x = list(range(0,4))\n",
    "fig,ax = plt.subplots(1,1,figsize=(3,5))\n",
    "ax.plot(x, poisson.cdf(x,mu), 'bo', ms=8, label='poisson pmf')\n",
    "ax.vlines(x, 0, poisson.cdf(x, mu), colors='b', lw=5, alpha=0.5)\n",
    "plt.xlabel('Number of customers')\n",
    "plt.ylabel('Probability CDF')\n",
    "\n",
    "x = list(range(3,15))\n",
    "fig,ax = plt.subplots(1,1,figsize=(5,5))\n",
    "ax.plot(x, poisson.cdf(x,mu), 'bo', ms=8, label='poisson pmf')\n",
    "ax.vlines(x, 0, poisson.cdf(x, mu), colors='b', lw=5, alpha=0.5)\n",
    "plt.xlabel('Number of customers')\n",
    "plt.ylabel('Probability CDF')"
   ]
  },
  {
   "cell_type": "code",
   "execution_count": 223,
   "metadata": {},
   "outputs": [
    {
     "data": {
      "text/plain": [
       "0.7056227874663288"
      ]
     },
     "execution_count": 223,
     "metadata": {},
     "output_type": "execute_result"
    }
   ],
   "source": [
    "poisson.cdf(14, mu)-poisson.cdf(3, mu)"
   ]
  },
  {
   "cell_type": "code",
   "execution_count": 66,
   "metadata": {},
   "outputs": [
    {
     "name": "stdout",
     "output_type": "stream",
     "text": [
      "Probability that I will commit 2 errors in a 455-word financial report :  0.09669027375144444\n",
      "Probability that I will commit 2 errors in a 1000-word financial report :  0.23012815007300153\n",
      "Probability that I will commit 2 errors in a 255-word financial report :  0.039377135392854104\n"
     ]
    },
    {
     "data": {
      "text/plain": [
       "' The probability of commitiing an error increases with increase in the number of words in the report.Since we want the prob of \\ncomitting errors per given no. of words, we multiply the lambda with the no. of words.Hence, the value of lamda increases with increase\\nin the no. of words.'"
      ]
     },
     "execution_count": 66,
     "metadata": {},
     "output_type": "execute_result"
    }
   ],
   "source": [
    "#Q8\n",
    "\n",
    "\"\"\"I work as a data analyst in Aeon Learning Pvt. Ltd. After analyzing data, I make\n",
    "reports, where I have the efficiency of entering 77 words per minute with 6 errors per\n",
    "hour. What is the probability that I will commit 2 errors in a 455-word financial report?\n",
    "What happens when the no. of words increases/decreases (in case of 1000 words,\n",
    "255 words)?\n",
    "How is the 𝜆 affected?\n",
    "How does it influence the PMF?\n",
    "Give a pictorial representation of the same to validate your answer.\"\"\"\n",
    "\n",
    "from scipy.stats import poisson\n",
    "lambda_typing=77*60 #word/min to error/hr\n",
    "lambda_error=6      #error/hr\n",
    "lambdaa=lambda_error/mu_typing #error/word\n",
    "\n",
    "print(\"Probability that I will commit 2 errors in a 455-word financial report : \",poisson.pmf(2,mu=455*lambdaa))\n",
    "print(\"Probability that I will commit 2 errors in a 1000-word financial report : \",poisson.pmf(2,mu=1000*lambdaa))\n",
    "print(\"Probability that I will commit 2 errors in a 255-word financial report : \",poisson.pmf(2,mu=255*lambdaa))\n",
    "\n",
    "\"\"\" The probability of commitiing an error increases with increase in the number of words in the report.Since we want the prob of \n",
    "comitting errors per given no. of words, we multiply the lambda with the no. of words.Hence, the value of lamda increases with increase\n",
    "in the no. of words.\"\"\"\n"
   ]
  },
  {
   "cell_type": "code",
   "execution_count": 68,
   "metadata": {},
   "outputs": [
    {
     "name": "stdout",
     "output_type": "stream",
     "text": [
      "with increase in lambda the PMF approches close to a Normal distribution\n"
     ]
    },
    {
     "data": {
      "text/plain": [
       "[<matplotlib.lines.Line2D at 0x2318aafba60>]"
      ]
     },
     "execution_count": 68,
     "metadata": {},
     "output_type": "execute_result"
    },
    {
     "data": {
      "image/png": "[encoded data removed]",
      "text/plain": [
       "<Figure size 1080x576 with 4 Axes>"
      ]
     },
     "metadata": {
      "needs_background": "light"
     },
     "output_type": "display_data"
    }
   ],
   "source": [
    "print(\"with increase in lambda the PMF approches close to a Normal distribution\")\n",
    "\n",
    "fig, ax = plt.subplots(2, 2,figsize=(15,8))\n",
    "\n",
    "ax[0,0].plot(range(1,20),poisson.pmf(range(1,20),mu=455*lambdaa))\n",
    "ax[0,1].plot(range(1,20),poisson.pmf(range(1,20),mu=1000*lambdaa))\n",
    "ax[1,0].plot(range(1,20),poisson.pmf(range(1,20),mu=255*lambdaa))\n",
    "ax[1,1].plot(range(1,20),poisson.pmf(range(1,20),mu=5000*lambdaa))\n"
   ]
  },
  {
   "cell_type": "code",
   "execution_count": 69,
   "metadata": {},
   "outputs": [
    {
     "data": {
      "text/plain": [
       "'Let the continuous random variable D denote the diameter of the hole drilled in an\\naluminum sheet. The target diameter to be achieved is 12.5mm. Random\\ndisturbances in the process often result in inaccuracy.\\nHistorical data shows that the distribution of D can be modelled by the PDF, f(d) =\\n20e−20(d−12.5), d ≥ 12.5. If a part with diameter > 12.6 mm needs to be scrapped,\\nwhat is the proportion of those parts? What is the CDF when the diameter is of 11\\nmm?\\nWhat is the conclusion of this experiment?'"
      ]
     },
     "execution_count": 69,
     "metadata": {},
     "output_type": "execute_result"
    }
   ],
   "source": [
    "#Q9\n",
    "\"\"\"Let the continuous random variable D denote the diameter of the hole drilled in an\n",
    "aluminum sheet. The target diameter to be achieved is 12.5mm. Random\n",
    "disturbances in the process often result in inaccuracy.\n",
    "Historical data shows that the distribution of D can be modelled by the PDF, f(d) =\n",
    "20e−20(d−12.5), d ≥ 12.5. If a part with diameter > 12.6 mm needs to be scrapped,\n",
    "what is the proportion of those parts? What is the CDF when the diameter is of 11\n",
    "mm?\n",
    "What is the conclusion of this experiment?\"\"\""
   ]
  },
  {
   "cell_type": "code",
   "execution_count": 106,
   "metadata": {},
   "outputs": [
    {
     "name": "stdout",
     "output_type": "stream",
     "text": [
      "P(Z > 1.26) : 0.1038346811213004\n",
      "P(Z < −0.86) : 0.1948945212518084\n",
      "P(Z > −1.37) : 0.914656549178033\n",
      "P(−1.25 < Z < 0.37) : 0.5386589811336914\n",
      "P(Z < −0.86) : 0.1948945212518084\n",
      "\n",
      "Value of 𝑧 such that 𝑃(𝑍 > 𝑧) = 0.05 is 1.6448536269514722\n",
      "\n",
      "Value of 𝑧 such that 𝑃(−𝑧 < 𝑍 < 𝑧) = 0.99 is 2.5758293035489004\n"
     ]
    }
   ],
   "source": [
    "#Q10\n",
    "\"\"\"\n",
    "Please compute the following:\n",
    "a) P(Z > 1.26), . P(Z < −0.86), P(Z > −1.37), P(−1.25 < Z < 0.37), . P(Z ≤ −4.6)\n",
    "b) Find the value 𝑧 such that 𝑃(𝑍 > 𝑧) = 0.05\n",
    "c) Find the value of 𝑧 such that 𝑃(−𝑧 < 𝑍 < 𝑧) = 0.99\n",
    "\"\"\"\n",
    "from scipy.stats import norm\n",
    "print(f\"P(Z > 1.26) : {norm.sf(1.26)}\")\n",
    "print(f\"P(Z < −0.86) : {1-norm.sf(-0.86)}\")\n",
    "print(f\"P(Z > −1.37) : {norm.sf(-1.37)}\")\n",
    "print(f\"P(−1.25 < Z < 0.37) : {norm.sf(-1.25)-norm.sf(0.37)}\")\n",
    "print(f\"P(Z < −0.86) : {1-norm.sf(-0.86)}\\n\")\n",
    "\n",
    "print(f\"Value of 𝑧 such that 𝑃(𝑍 > 𝑧) = 0.05 is {norm.ppf(1-0.05)}\")\n",
    "print(f\"\\nValue of 𝑧 such that 𝑃(−𝑧 < 𝑍 < 𝑧) = 0.99 is {norm.ppf(1-0.01/2)}\")"
   ]
  },
  {
   "cell_type": "code",
   "execution_count": 111,
   "metadata": {},
   "outputs": [
    {
     "name": "stdout",
     "output_type": "stream",
     "text": [
      "Probability that a current measurement will exceed 13 𝑚𝐴 (or) P(x > 13): 0.06680720126885807\n",
      "Probability that a current measurement is between 9 and 11mA (or) P(9<x<11): 0.8413447460685429\n",
      "Current measurement which has a probability of 0.98 is 14.107497821263646\n"
     ]
    }
   ],
   "source": [
    "#Q11\n",
    "\"\"\"The current flow in a copper wire follow a normal distribution with a mean of 10 𝑚A\n",
    "and a variance of 4 (𝑚𝐴)2.\n",
    "What is the probability that a current measurement will exceed 13 𝑚𝐴? What is the\n",
    "probability that a current measurement is between 9 and 11mA? Determine the\n",
    "current measurement which has a probability of 0.98.\"\"\"\n",
    "\n",
    "mu=10\n",
    "var=4\n",
    "def z_stat(x,mu,var):\n",
    "    z=(x-mu)/var**0.5\n",
    "    return z\n",
    "print(f\"Probability that a current measurement will exceed 13 𝑚𝐴 (or) P(x > 13): {norm.sf(z_stat(13,mu,var))}\")\n",
    "print(f\"Probability that a current measurement is between 9 and 11mA (or) P(9<x<11): {norm.sf(z_stat(9,mu,var)-z_stat(11,mu,var))}\")\n",
    "print(f\"Current measurement which has a probability of 0.98 is {norm.ppf(0.98)*var**0.5+mu}\")\n",
    "    "
   ]
  },
  {
   "cell_type": "code",
   "execution_count": 132,
   "metadata": {},
   "outputs": [
    {
     "name": "stdout",
     "output_type": "stream",
     "text": [
      "Proportion of shafts that are in sync with the specifications : 0.22767795341898844 \n",
      "Proportion of shafts that are in sync with the specifications : 0.26111731963647294 \n"
     ]
    }
   ],
   "source": [
    "#Q12\n",
    "\"\"\"The shaft in a piston has its diameter normally distributed with a mean of 0.2508 inch\n",
    "and a standard deviation of 0.0005 inch. The specifications of the shaft are 0.2500 ∓\n",
    "0.0015 inch. What proportion of shafts are in sync with the specifications? If the\n",
    "process is centered so that the mean is equal to the target value of 0.2500, what\n",
    "proportion of shafts conform to the new specifications? What is your conclusion from\n",
    "this experiment?\"\"\"\n",
    "\n",
    "def z_stat(x):\n",
    "    mu=0.2500\n",
    "    std=0.0015\n",
    "    z=(x-mu)/std\n",
    "    return z\n",
    "print(f\"Proportion of shafts that are in sync with the specifications : {norm.sf(z_stat(0.2508-0.0005))-norm.sf(z_stat(0.2508+0.0005))} \")\n",
    "print(f\"Proportion of shafts that are in sync with the specifications : {norm.sf(z_stat(0.2500-0.0005))-norm.sf(z_stat(0.2500+0.0005))} \")"
   ]
  },
  {
   "cell_type": "code",
   "execution_count": null,
   "metadata": {},
   "outputs": [],
   "source": []
  }
 ],
 "metadata": {
  "kernelspec": {
   "display_name": "Python 3",
   "language": "python",
   "name": "python3"
  },
  "language_info": {
   "codemirror_mode": {
    "name": "ipython",
    "version": 3
   },
   "file_extension": ".py",
   "mimetype": "text/x-python",
   "name": "python",
   "nbconvert_exporter": "python",
   "pygments_lexer": "ipython3",
   "version": "3.8.3"
  }
 },
 "nbformat": 4,
 "nbformat_minor": 4
}
