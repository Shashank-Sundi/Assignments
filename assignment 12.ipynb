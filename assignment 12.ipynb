{
 "cells": [
  {
   "cell_type": "code",
   "execution_count": 11,
   "metadata": {},
   "outputs": [
    {
     "name": "stdout",
     "output_type": "stream",
     "text": [
      "The Z score 3.2 is grester than the Z(0.05) 1.6448536269514722 .Hence, we reject the null hypothesis that raw starch doesn't have an effect.Thus raw cornstarch will have a positive effect on blood glucose levels\n"
     ]
    }
   ],
   "source": [
    "#Q1\n",
    "\"\"\"Problem Statement 1:\n",
    "Blood glucose levels for obese patients have a mean of 100 with a standard deviation of\n",
    "15. A researcher thinks that a diet high in raw cornstarch will have a positive effect on\n",
    "blood glucose levels. A sample of 36 patients who have tried the raw cornstarch diet\n",
    "have a mean glucose level of 108. Test the hypothesis that the raw cornstarch had an\n",
    "effect or not.\"\"\"\n",
    "\n",
    "from scipy.stats import norm\n",
    "mu=100\n",
    "std=15\n",
    "n=36\n",
    "mu_sample=108\n",
    "\n",
    "# H0: ( mu_sample=100)raw cornstarch will not have a positive effect on blood glucose levels\n",
    "# H1: ( mu_sample>100 )raw cornstarch will have a positive effect on blood glucose levels\n",
    "\n",
    "Z=(mu_sample-mu)/(std/n**0.5)\n",
    "Z_critical=norm.ppf(1-0.05)\n",
    "print(f\"The Z score {Z} is grester than the Z(0.05) {Z_critical} .Hence, we reject the null hypothesis that raw starch doesn't have an effect.Thus raw cornstarch will have a positive effect on blood glucose levels\")"
   ]
  },
  {
   "cell_type": "code",
   "execution_count": 28,
   "metadata": {},
   "outputs": [
    {
     "name": "stdout",
     "output_type": "stream",
     "text": [
      "The z_score 0.7080278164104213 falls outside the critical region [ -1.6448536269514729] ,hence we accept the null hypothesis that the proportion of republicans in state 2 is greater than the proportion of republicans in state 1.\n",
      "\n",
      "Probability that the survey will show a greater percentage of Republican voters in the second state than in the first state is [0.23946399182220013]\n"
     ]
    }
   ],
   "source": [
    "#Q2\n",
    "\"\"\"Problem Statement 2:\n",
    "In one state, 52% of the voters are Republicans, and 48% are Democrats. In a second\n",
    "state, 47% of the voters are Republicans, and 53% are Democrats. Suppose a simple\n",
    "random sample of 100 voters are surveyed from each state.\n",
    "What is the probability that the survey will show a greater percentage of Republican\n",
    "voters in the second state than in the first state?\"\"\"\n",
    "\n",
    "# let p1 be the proportion of Republicans in state 1 \n",
    "# let p2 be the proportion of Republicans in state 2\n",
    "\n",
    "p1=0.52\n",
    "n=100\n",
    "p2=0.47\n",
    "\n",
    "# H0: p1-p2=0\n",
    "# H1: p1-p2 < 0\n",
    "\n",
    "se=(p1*(1-p1)/n +p2*(1-p2)/n)**0.5\n",
    "z_statistic=((p1-p2)-0)/se\n",
    "z_critical=norm.ppf(0.05)\n",
    "print(f\"The z_score {z_statistic} falls outside the critical region [ {z_critical}] ,hence we accept the null hypothesis that the proportion of republicans in state 2 is greater than the proportion of republicans in state 1.\")\n",
    "print(f\"\\nProbability that the survey will show a greater percentage of Republican voters in the second state than in the first state is [{norm.sf(z_statistic)}]\")"
   ]
  },
  {
   "cell_type": "code",
   "execution_count": 55,
   "metadata": {},
   "outputs": [
    {
     "name": "stdout",
     "output_type": "stream",
     "text": [
      "I scored 0.13835565843531894 percentage better than the average test taker. \n"
     ]
    }
   ],
   "source": [
    "#Q3\n",
    "\"\"\"Problem Statement 3:\n",
    "You take the SAT and score 1100. The mean score for the SAT is 1026 and the standard\n",
    "deviation is 209. How well did you score on the test compared to the average test taker?\"\"\"\n",
    "\n",
    "mu=1026\n",
    "std=209\n",
    "X=1100\n",
    "Z=(X-mu)/std\n",
    "a=norm.cdf(Z)\n",
    "print(f\"I scored {a-0.5} percentage better than the average test taker. \")"
   ]
  }
 ],
 "metadata": {
  "kernelspec": {
   "display_name": "Python 3",
   "language": "python",
   "name": "python3"
  },
  "language_info": {
   "codemirror_mode": {
    "name": "ipython",
    "version": 3
   },
   "file_extension": ".py",
   "mimetype": "text/x-python",
   "name": "python",
   "nbconvert_exporter": "python",
   "pygments_lexer": "ipython3",
   "version": "3.8.3"
  }
 },
 "nbformat": 4,
 "nbformat_minor": 4
}
