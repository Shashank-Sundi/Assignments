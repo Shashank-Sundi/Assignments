{
 "cells": [
  {
   "cell_type": "code",
   "execution_count": 28,
   "metadata": {},
   "outputs": [
    {
     "name": "stdout",
     "output_type": "stream",
     "text": [
      " Mean=6.85 , Median : 7.0 , Mode : 7 , Standard deviation : 1.5898113095584647\n"
     ]
    }
   ],
   "source": [
    "#Q1\n",
    "\"\"\"The marks awarded for an assignment set for a Year 8 class of 20 students were as\n",
    "follows:\n",
    "6 7 5 7 7 8 7 6 9 7 4 10 6 8 8 9 5 6 4 8\"\"\"\n",
    "\n",
    "import numpy as np\n",
    "from scipy import stats\n",
    "\n",
    "marks=[6, 7, 5 ,7, 7 ,8 ,7 ,6 ,9 ,7, 4, 10, 6 ,8, 8, 9, 5, 6, 4, 8]\n",
    "mean=np.mean(marks)\n",
    "median=np.median(marks)\n",
    "mode=stats.mode(marks)\n",
    "stddev=np.std(marks)\n",
    "print(f\" Mean={mean} , Median : {median} , Mode : {int(mode[0])} , Standard deviation : {stddev}\")\n"
   ]
  },
  {
   "cell_type": "code",
   "execution_count": 30,
   "metadata": {},
   "outputs": [
    {
     "name": "stdout",
     "output_type": "stream",
     "text": [
      " Mean=107.51428571428572 , Median : 100.0 , Mode : 75 , Standard deviation : 38.77287080168403\n"
     ]
    }
   ],
   "source": [
    "#Q2\n",
    "\"\"\"The number of calls from motorists per day for roadside service was recorded for a\n",
    "particular month:\n",
    "28, 122, 217, 130, 120, 86, 80, 90, 140, 120, 70, 40, 145, 113, 90, 68, 174, 194, 170,\n",
    "100, 75, 104, 97, 75,123, 100, 75, 104, 97, 75, 123, 100, 89, 120, 109\"\"\"\n",
    "\n",
    "calls=[28, 122, 217, 130, 120, 86, 80, 90, 140, 120, 70, 40, 145, 113, 90, 68, 174, 194, 170,\n",
    "100, 75, 104, 97, 75,123, 100, 75, 104, 97, 75, 123, 100, 89, 120, 109]\n",
    "\n",
    "mean=np.mean(calls)\n",
    "median=np.median(calls)\n",
    "mode=stats.mode(calls)\n",
    "stddev=np.std(calls)\n",
    "print(f\" Mean={mean} , Median : {median} , Mode : {int(mode[0])} , Standard deviation : {stddev}\")\n",
    "\n"
   ]
  },
  {
   "cell_type": "code",
   "execution_count": null,
   "metadata": {},
   "outputs": [],
   "source": [
    "#Q3\n",
    "\"\"\"The number of times I go to the gym in weekdays, are given below along with its\n",
    "associated probability:\n",
    "x = 0, 1, 2, 3, 4, 5\n",
    "f(x) = 0.09, 0.15, 0.40, 0.25, 0.10, 0.01\n",
    "Calculate the mean no. of workouts in a week. Also evaluate the variance involved in\n",
    "it.\"\"\"\n",
    "\n",
    "stats."
   ]
  }
 ],
 "metadata": {
  "kernelspec": {
   "display_name": "Python 3",
   "language": "python",
   "name": "python3"
  },
  "language_info": {
   "codemirror_mode": {
    "name": "ipython",
    "version": 3
   },
   "file_extension": ".py",
   "mimetype": "text/x-python",
   "name": "python",
   "nbconvert_exporter": "python",
   "pygments_lexer": "ipython3",
   "version": "3.8.3"
  }
 },
 "nbformat": 4,
 "nbformat_minor": 4
}
