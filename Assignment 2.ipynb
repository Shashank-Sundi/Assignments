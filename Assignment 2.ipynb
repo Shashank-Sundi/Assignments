{
 "cells": [
  {
   "cell_type": "code",
   "execution_count": 62,
   "metadata": {},
   "outputs": [
    {
     "name": "stdout",
     "output_type": "stream",
     "text": [
      " \n",
      "\n",
      "*  \n",
      "\n",
      "* *  \n",
      "\n",
      "* * *  \n",
      "\n",
      "* * * *  \n",
      "\n",
      "* * * * *  \n",
      "\n",
      "* * * *  \n",
      "\n",
      "* * *  \n",
      "\n",
      "* *  \n",
      "\n",
      "*  \n",
      "\n"
     ]
    }
   ],
   "source": [
    "#Q1\n",
    "\n",
    "flag=0\n",
    "for i in range(10):\n",
    "        if i<=5:\n",
    "            b=\"\"\n",
    "            for a in range(i):\n",
    "                b=\"* \"+b\n",
    "            print(b,\"\\n\")    \n",
    "        else :\n",
    "            b=\"\"\n",
    "            flag+=1\n",
    "            for a in range(i-flag*2):\n",
    "                b=\"* \"+b\n",
    "            print(b,\"\\n\")           "
   ]
  },
  {
   "cell_type": "code",
   "execution_count": 46,
   "metadata": {},
   "outputs": [
    {
     "name": "stdout",
     "output_type": "stream",
     "text": [
      "Input word: Shashank\n",
      "Output:  knahsahS\n"
     ]
    }
   ],
   "source": [
    "#Q2\n",
    "\n",
    "word=input(\"Input word: \")\n",
    "print(\"Output: \",word[::-1])"
   ]
  },
  {
   "cell_type": "code",
   "execution_count": null,
   "metadata": {},
   "outputs": [],
   "source": []
  }
 ],
 "metadata": {
  "kernelspec": {
   "display_name": "Python 3",
   "language": "python",
   "name": "python3"
  },
  "language_info": {
   "codemirror_mode": {
    "name": "ipython",
    "version": 3
   },
   "file_extension": ".py",
   "mimetype": "text/x-python",
   "name": "python",
   "nbconvert_exporter": "python",
   "pygments_lexer": "ipython3",
   "version": "3.8.3"
  }
 },
 "nbformat": 4,
 "nbformat_minor": 4
}
