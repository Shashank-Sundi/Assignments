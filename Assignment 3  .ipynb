{
 "cells": [
  {
   "cell_type": "markdown",
   "metadata": {},
   "source": [
    "# Q1"
   ]
  },
  {
   "cell_type": "code",
   "execution_count": 26,
   "metadata": {},
   "outputs": [],
   "source": [
    "#Q1\n",
    "\n",
    "#Q1.1\n",
    "\n",
    "import sys\n",
    "def Myreduce(function,sequence):\n",
    "    \n",
    "    try:\n",
    "    \n",
    "        a=sequence\n",
    "        if type(a)==str or type(a)==list or type(a)==tuple:\n",
    "            b=a[0]\n",
    "        elif type(a)==int or type(a)==float:\n",
    "            print(\"Int object is not iterable\")\n",
    "        elif type(a)==set or type(a)==dict :\n",
    "            for i in a:\n",
    "                if type(i)==str:\n",
    "                    c=\"\"\n",
    "                elif type(i)==int or type(i)==float:\n",
    "                    c=0 \n",
    "                elif type(i)==list:\n",
    "                    c=[]\n",
    "                elif type(i)==tuple :\n",
    "                    c=()\n",
    "                elif type(i)==set or type(i)==dict :\n",
    "                    return\n",
    "            for i in a:\n",
    "                c=function(c,i)\n",
    "            print(c)\n",
    "            return \n",
    "\n",
    "            \n",
    "        for i in range(len(a)):\n",
    "            if i ==len(a)-1 or type(a)==set or type(a)==dict:\n",
    "                break\n",
    "            b=function(b,a[i+1]) \n",
    "        return b\n",
    "        \n",
    "        \n",
    "    except Exception as e:\n",
    "        print(e.args,\"\\n\",e.with_traceback)\n",
    "        exception_type, exception_object, exception_traceback = sys.exc_info()\n",
    "        line_number = exception_traceback.tb_lineno\n",
    "        print(\" Error caught at line : \", line_number)\n",
    "      \n",
    "    "
   ]
  },
  {
   "cell_type": "code",
   "execution_count": 27,
   "metadata": {},
   "outputs": [
    {
     "name": "stdout",
     "output_type": "stream",
     "text": [
      "My Name is Shashank Sundi\n"
     ]
    }
   ],
   "source": [
    "try:\n",
    "    print(Myreduce(lambda a,b: a+b,[\"My \",\"Name\",\" is\",\" Shashank\",\" Sundi\" ]))\n",
    "except Exception as e:   \n",
    "    print(e)\n",
    "      "
   ]
  },
  {
   "cell_type": "code",
   "execution_count": 28,
   "metadata": {},
   "outputs": [],
   "source": [
    "#Q1.2\n",
    "\n",
    "def Myfilter(function,sequence):\n",
    "    try:\n",
    "        \n",
    "        a=sequence\n",
    "        if function==None:\n",
    "            if type(a)!=dict:\n",
    "                for i in a :\n",
    "                    if i==False:\n",
    "                        continue\n",
    "                    else:\n",
    "                        yield i\n",
    "            elif type(a)==dict:\n",
    "                for i in a.keys:\n",
    "                    if type(a)!=list or type(a)!=set or type(a)!=dict:\n",
    "                        yield i           \n",
    "\n",
    "        else:\n",
    "            for i in a:\n",
    "                if function(i)==True :\n",
    "                    yield i               \n",
    "\n",
    "    except Exception as e:\n",
    "        print(e.args,\"\\n\",e.with_traceback)\n",
    "        exception_type, exception_object, exception_traceback = sys.exc_info()\n",
    "        line_number = exception_traceback.tb_lineno\n",
    "        print(\" Error caught at line : \", line_number)"
   ]
  },
  {
   "cell_type": "code",
   "execution_count": 29,
   "metadata": {},
   "outputs": [
    {
     "data": {
      "text/plain": [
       "[2, 4, 6, 1212]"
      ]
     },
     "execution_count": 29,
     "metadata": {},
     "output_type": "execute_result"
    }
   ],
   "source": [
    "def is_even(x):\n",
    "    if x%2 == 0:\n",
    "        return True\n",
    "list(Myfilter(is_even,[1,2,3,4,5,6,7,1212,111,2.13]))"
   ]
  },
  {
   "cell_type": "markdown",
   "metadata": {},
   "source": [
    "# Q2"
   ]
  },
  {
   "cell_type": "code",
   "execution_count": 30,
   "metadata": {},
   "outputs": [
    {
     "data": {
      "text/plain": [
       "['x', 'xx', 'xxx', 'xxxx', 'y', 'yy', 'yyy', 'yyyy', 'z', 'zz', 'zzz', 'zzzz']"
      ]
     },
     "execution_count": 30,
     "metadata": {},
     "output_type": "execute_result"
    }
   ],
   "source": [
    "a=[i*j for i in [\"x\",\"y\",\"z\"] for j in range(1,5)]\n",
    "a"
   ]
  },
  {
   "cell_type": "code",
   "execution_count": 31,
   "metadata": {},
   "outputs": [
    {
     "data": {
      "text/plain": [
       "['x', 'y', 'z', 'xx', 'yy', 'zz', 'xxx', 'yyy', 'zzz', 'xxxx', 'yyyy', 'zzzz']"
      ]
     },
     "execution_count": 31,
     "metadata": {},
     "output_type": "execute_result"
    }
   ],
   "source": [
    "a=[i*j for i in range(1,5) for j in [\"x\",\"y\",\"z\"]]\n",
    "a"
   ]
  },
  {
   "cell_type": "code",
   "execution_count": 32,
   "metadata": {},
   "outputs": [
    {
     "data": {
      "text/plain": [
       "[[2], [3], [4], [3], [4], [5], [4], [5], [6]]"
      ]
     },
     "execution_count": 32,
     "metadata": {},
     "output_type": "execute_result"
    }
   ],
   "source": [
    "a=[[i] for j in range(2,5) for i in range(j,j+3)]\n",
    "a"
   ]
  },
  {
   "cell_type": "code",
   "execution_count": 33,
   "metadata": {},
   "outputs": [
    {
     "data": {
      "text/plain": [
       "[[2, 3, 4, 5], [3, 4, 5, 6], [4, 5, 6, 7], [5, 6, 7, 8]]"
      ]
     },
     "execution_count": 33,
     "metadata": {},
     "output_type": "execute_result"
    }
   ],
   "source": [
    "a=[[i for i in range(j,j+4)] for j in range(2,6)]\n",
    "a"
   ]
  },
  {
   "cell_type": "code",
   "execution_count": 34,
   "metadata": {},
   "outputs": [
    {
     "data": {
      "text/plain": [
       "[(1, 1), (2, 1), (3, 1), (1, 2), (2, 2), (3, 2), (1, 3), (2, 3), (3, 3)]"
      ]
     },
     "execution_count": 34,
     "metadata": {},
     "output_type": "execute_result"
    }
   ],
   "source": [
    "a=[(j,i) for i in range(1,4) for j in range(1,4)]\n",
    "a"
   ]
  }
 ],
 "metadata": {
  "kernelspec": {
   "display_name": "Python 3",
   "language": "python",
   "name": "python3"
  },
  "language_info": {
   "codemirror_mode": {
    "name": "ipython",
    "version": 3
   },
   "file_extension": ".py",
   "mimetype": "text/x-python",
   "name": "python",
   "nbconvert_exporter": "python",
   "pygments_lexer": "ipython3",
   "version": "3.8.3"
  }
 },
 "nbformat": 4,
 "nbformat_minor": 4
}
